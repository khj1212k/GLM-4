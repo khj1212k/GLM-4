{
 "cells": [
  {
   "cell_type": "code",
   "execution_count": 2,
   "metadata": {},
   "outputs": [
    {
     "name": "stdout",
     "output_type": "stream",
     "text": [
      "\n",
      "✅ 완료: 90개 복사됨, 0개 누락\n"
     ]
    }
   ],
   "source": [
    "import os\n",
    "import json\n",
    "import shutil\n",
    "\n",
    "# 경로 설정\n",
    "JSONL_FILES = [\"train.jsonl\", \"dev.jsonl\"]\n",
    "SOURCE_IMAGE_DIR = \"images\"   # 원본 이미지가 있는 곳\n",
    "TARGET_IMAGE_DIR = \"image\"    # 복사할 대상 폴더\n",
    "\n",
    "# 대상 폴더 생성\n",
    "os.makedirs(TARGET_IMAGE_DIR, exist_ok=True)\n",
    "\n",
    "# 모든 이미지 파일 이름 수집\n",
    "image_filenames = set()\n",
    "\n",
    "for jsonl_file in JSONL_FILES:\n",
    "    with open(jsonl_file, \"r\", encoding=\"utf-8\") as f:\n",
    "        for line in f:\n",
    "            data = json.loads(line)\n",
    "            for msg in data.get(\"messages\", []):\n",
    "                if \"image\" in msg:\n",
    "                    image_path = msg[\"image\"]\n",
    "                    image_name = os.path.basename(image_path)\n",
    "                    image_filenames.add(image_name)\n",
    "\n",
    "# 이미지 파일 복사\n",
    "copied, missing = 0, 0\n",
    "for filename in image_filenames:\n",
    "    src = os.path.join(SOURCE_IMAGE_DIR, filename)\n",
    "    dst = os.path.join(TARGET_IMAGE_DIR, filename)\n",
    "    if os.path.exists(src):\n",
    "        shutil.copy2(src, dst)\n",
    "        copied += 1\n",
    "    else:\n",
    "        print(f\"[WARN] 이미지 없음: {src}\")\n",
    "        missing += 1\n",
    "\n",
    "print(f\"\\n✅ 완료: {copied}개 복사됨, {missing}개 누락\")"
   ]
  }
 ],
 "metadata": {
  "kernelspec": {
   "display_name": "Python 3",
   "language": "python",
   "name": "python3"
  },
  "language_info": {
   "codemirror_mode": {
    "name": "ipython",
    "version": 3
   },
   "file_extension": ".py",
   "mimetype": "text/x-python",
   "name": "python",
   "nbconvert_exporter": "python",
   "pygments_lexer": "ipython3",
   "version": "3.11.9"
  }
 },
 "nbformat": 4,
 "nbformat_minor": 2
}
