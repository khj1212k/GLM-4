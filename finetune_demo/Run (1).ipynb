{
 "cells": [
  {
   "cell_type": "code",
   "execution_count": null,
   "id": "ec95903b-8dac-4630-bd2a-998efe11843d",
   "metadata": {},
   "outputs": [],
   "source": [
    "from huggingface_hub import snapshot_download\n",
    "\n",
    "# 모델 저장소를 로컬 디렉토리에 다운로드\n",
    "snapshot_download(repo_id=\"THUDM/glm-4v-9b\", local_dir=\"/workspace/model\", local_dir_use_symlinks=False)"
   ]
  },
  {
   "cell_type": "code",
   "execution_count": 1,
   "id": "e7d18745-3e1a-49f1-b9b7-589ff7351e6f",
   "metadata": {},
   "outputs": [
    {
     "name": "stdout",
     "output_type": "stream",
     "text": [
      "📦 Hugging Face datasets 캐시 경로: /root/.cache/huggingface/datasets\n",
      "⚠️ datasets 캐시 디렉토리가 존재하지 않습니다.\n"
     ]
    }
   ],
   "source": [
    "import os\n",
    "import shutil\n",
    "from datasets import config\n",
    "\n",
    "# 1. 캐시 디렉토리 확인\n",
    "cache_dir = config.HF_DATASETS_CACHE\n",
    "print(f\"📦 Hugging Face datasets 캐시 경로: {cache_dir}\")\n",
    "\n",
    "# 2. 디렉토리 삭제\n",
    "if os.path.exists(cache_dir):\n",
    "    shutil.rmtree(cache_dir)\n",
    "    print(\"✅ datasets 캐시 전체 삭제 완료\")\n",
    "else:\n",
    "    print(\"⚠️ datasets 캐시 디렉토리가 존재하지 않습니다.\")"
   ]
  },
  {
   "cell_type": "code",
   "execution_count": 2,
   "id": "ab7d56dd-fbcd-4fc7-bb0a-1a1a70d478ed",
   "metadata": {},
   "outputs": [
    {
     "name": "stdout",
     "output_type": "stream",
     "text": [
      "✅ datasets 캐시 전체 삭제 완료\n"
     ]
    }
   ],
   "source": [
    "# 2. 디렉토리 삭제\n",
    "if os.path.exists('/root/.cache'):\n",
    "    shutil.rmtree('/root/.cache')\n",
    "    print(\"✅ datasets 캐시 전체 삭제 완료\")\n",
    "else:\n",
    "    print(\"⚠️ datasets 캐시 디렉토리가 존재하지 않습니다.\")"
   ]
  },
  {
   "cell_type": "code",
   "execution_count": 6,
   "id": "20bd4e17-3a8c-46f9-b231-685d7ae70c35",
   "metadata": {},
   "outputs": [],
   "source": [
    "# finetune_vision.py 또는 해당 main 스크립트 상단\n",
    "import os\n",
    "os.environ[\"SWANLAB_MODE\"] = \"disabled\""
   ]
  },
  {
   "cell_type": "code",
   "execution_count": 4,
   "id": "2a41f6e0-3b05-42e6-9a15-a33a7dc9ced2",
   "metadata": {},
   "outputs": [],
   "source": [
    "import torch\n",
    "torch.cuda.empty_cache()"
   ]
  },
  {
   "cell_type": "code",
   "execution_count": null,
   "id": "97d8aa81-9739-4c57-8917-ffccb2e9bfc3",
   "metadata": {},
   "outputs": [],
   "source": [
    "export HF_DATASETS_CACHE=\"/workspace/hf_cache\""
   ]
  },
  {
   "cell_type": "code",
   "execution_count": null,
   "id": "ad23f0b3-e523-429e-9f78-69719b7af1ce",
   "metadata": {},
   "outputs": [],
   "source": [
    "# import torch\n",
    "# torch.cuda.empty_cache()\n",
    "# !rm -rf ~/.cache/huggingface\n",
    "export HF_DATASETS_CACHE=\"/workspace/hf_cache\"\n",
    "export PYTORCH_CUDA_ALLOC_CONF=expandable_segments:True\n",
    "OMP_NUM_THREADS=1 torchrun \\\n",
    "    --standalone --nnodes=1 --nproc_per_node=4   \\\n",
    "    finetune_vision.py   \\\n",
    "    /workspace/data/  \\\n",
    "    /workspace/model   \\\n",
    "    configs/lora.yaml  "
   ]
  },
  {
   "cell_type": "code",
   "execution_count": 3,
   "id": "8bed476c-b576-426a-9b98-f03d18cbd08d",
   "metadata": {},
   "outputs": [
    {
     "name": "stdout",
     "output_type": "stream",
     "text": [
      "\u001b[?1l\u001b>---------------------------------------+------------------------+----------\u001b[1;75H3\u001b[3;19H3\u001b[24;80H\u001b[1;75H5\u001b[3;19H5\u001b[24;80H\u001b[1;75H6\u001b[3;19H6\u001b[24;80H\u001b[1;75H8\u001b[3;19H8\u001b[24;80H\u001b[1;75H9\u001b[3;19H9\u001b[24;80H\u001b[1;74H10\u001b[3;18H10\u001b[20;32H5\u001b[24;80H\u001b[1;75H2\u001b[3;19H2\u001b[20;32H4\u001b[24;80H\u001b[1;75H3\u001b[3;19H3\u001b[24;80H\u001b[1;75H5\u001b[3;19H5\u001b[20;32H5\u001b[24;80H\u001b[1;75H6\u001b[3;19H6\u001b[20;32H4\u001b[24;80H\u001b[1;75H7\u001b[3;19H7\u001b[24;80H\u001b[1;75H9\u001b[3;19H9\u001b[24;80H\u001b[1;74H20\u001b[3;18H20\u001b[24;80H\u001b[1;75H2\u001b[3;19H2\u001b[20;32H5\u001b[24;80H\u001b[1;75H3\u001b[3;19H3\u001b[20;32H4\u001b[24;80H\u001b[1;75H4\u001b[3;19H5\u001b[24;80H\u001b[1;75H6\u001b[3;19H6\u001b[24;80H\u001b[1;75H7\u001b[3;19H7\u001b[24;80H\u001b[1;75H9\u001b[3;19H9\u001b[24;80H\u001b[1;74H30\u001b[3;18H30\u001b[24;80H\u001b[1;75H2\u001b[3;19H2\u001b[24;80H\u001b[1;75H3\u001b[3;19H3\u001b[24;80H\u001b[1;75H4\u001b[3;19H4\u001b[24;80H\u001b[1;75H6\u001b[3;19H6\u001b[20;32H5\u001b[24;80H\u001b[1;75H7\u001b[3;19H7\u001b[24;80H\u001b[1;75H9\u001b[3;19H9\u001b[24;80H\u001b[1;74H40\u001b[3;18H40\u001b[24;80H\u001b[1;75H1\u001b[3;19H1\u001b[24;80H\u001b[24;1H\u001b[2J\u001b[?47l\u001b8"
     ]
    }
   ],
   "source": [
    "!watch -n 1 nvidia-smi"
   ]
  },
  {
   "cell_type": "code",
   "execution_count": 24,
   "id": "96012c13-971a-4690-b182-e2561f3e5b8b",
   "metadata": {},
   "outputs": [
    {
     "name": "stdout",
     "output_type": "stream",
     "text": [
      "README.md     Run.ipynb  finetune.py\t     monitering.ipynb  requirements.txt\n",
      "README_zh.md  configs\t finetune_vision.py  output\n"
     ]
    }
   ],
   "source": [
    "export HF_DATASETS_CACHE=\"/workspace/hf_cache\"\n",
    "export PYTORCH_CUDA_ALLOC_CONF=expandable_segments:True\n",
    "python finetune_vision.py  /workspace/data/  /workspace/model configs/lora.yaml "
   ]
  }
 ],
 "metadata": {
  "kernelspec": {
   "display_name": "Python3 (ipykernel)",
   "language": "python",
   "name": "python3"
  },
  "language_info": {
   "codemirror_mode": {
    "name": "ipython",
    "version": 3
   },
   "file_extension": ".py",
   "mimetype": "text/x-python",
   "name": "python",
   "nbconvert_exporter": "python",
   "pygments_lexer": "ipython3",
   "version": "3.10.12"
  }
 },
 "nbformat": 4,
 "nbformat_minor": 5
}
